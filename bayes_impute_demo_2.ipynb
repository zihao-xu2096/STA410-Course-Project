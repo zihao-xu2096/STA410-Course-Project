{
 "cells": [
  {
   "metadata": {
    "ExecuteTime": {
     "end_time": "2025-04-03T00:57:09.732160Z",
     "start_time": "2025-04-03T00:57:09.247361Z"
    }
   },
   "cell_type": "code",
   "source": [
    "import numpy as np\n",
    "import pandas as pd\n",
    "from scipy.stats import norm\n",
    "from bayes_impute import BayesianImputer"
   ],
   "id": "b3ea044fddf7593c",
   "outputs": [],
   "execution_count": 1
  },
  {
   "metadata": {
    "collapsed": true,
    "ExecuteTime": {
     "end_time": "2025-04-03T00:57:10.144032Z",
     "start_time": "2025-04-03T00:57:09.737050Z"
    }
   },
   "cell_type": "code",
   "source": [
    "\n",
    "# --- Step 1: Create Sample Data ---\n",
    "np.random.seed(None)\n",
    "df = pd.DataFrame({\n",
    "    'age': np.random.normal(30, 5, 100),\n",
    "    'income': np.random.normal(50000, 10000, 100)\n",
    "})\n",
    "df.loc[np.random.choice(df.index, 10, replace=False), 'age'] = np.nan\n",
    "df.loc[np.random.choice(df.index, 15, replace=False), 'income'] = np.nan\n",
    "\n",
    "# --- Step 2: Run Gibbs Sampling ---\n",
    "print(\"=== Gibbs Sampling ===\")\n",
    "imputer_gibbs = BayesianImputer(df, method='gibbs', num_imputations=2)\n",
    "imputer_gibbs.detect_missing_mechanism()\n",
    "imputer_gibbs.initialize_missing()\n",
    "gibbs_result = imputer_gibbs.impute(return_all=False)\n",
    "display(gibbs_result.head())\n",
    "\n",
    "# --- Step 3: Run Metropolis-Hastings ---\n",
    "print(\"\\n=== Metropolis-Hastings ===\")\n",
    "imputer_mh = BayesianImputer(df, method='metropolis', num_imputations=2)\n",
    "imputer_mh.detect_missing_mechanism()\n",
    "imputer_mh.initialize_missing()\n",
    "mh_result = imputer_mh.impute(return_all=False)\n",
    "display(mh_result.head())"
   ],
   "id": "initial_id",
   "outputs": [
    {
     "name": "stdout",
     "output_type": "stream",
     "text": [
      "=== Gibbs Sampling ===\n",
      "[Init] BayesianImputer initialized with method='gibbs', mechanism='MAR', imputations=2\n",
      "[Detect] Missing value count per column:\n",
      "age       10\n",
      "income    15\n",
      "dtype: int64\n",
      "[InitMissing] Missing values initialized using column means.\n",
      "[Impute] Running gibbs sampling...\n",
      "[Gibbs] Starting Gibbs sampling...\n",
      "[Gibbs] Imputation 1 completed.\n",
      "[Gibbs] Imputation 2 completed.\n",
      "[Gibbs] Gibbs sampling finished.\n",
      "[Impute] Imputation complete.\n"
     ]
    },
    {
     "data": {
      "text/plain": [
       "         age        income\n",
       "0  36.849990  53161.203360\n",
       "1  31.859499  44054.405295\n",
       "2  25.985572  51371.106365\n",
       "3  27.440512  57343.613031\n",
       "4  34.361698  38230.668051"
      ],
      "text/html": [
       "<div>\n",
       "<style scoped>\n",
       "    .dataframe tbody tr th:only-of-type {\n",
       "        vertical-align: middle;\n",
       "    }\n",
       "\n",
       "    .dataframe tbody tr th {\n",
       "        vertical-align: top;\n",
       "    }\n",
       "\n",
       "    .dataframe thead th {\n",
       "        text-align: right;\n",
       "    }\n",
       "</style>\n",
       "<table border=\"1\" class=\"dataframe\">\n",
       "  <thead>\n",
       "    <tr style=\"text-align: right;\">\n",
       "      <th></th>\n",
       "      <th>age</th>\n",
       "      <th>income</th>\n",
       "    </tr>\n",
       "  </thead>\n",
       "  <tbody>\n",
       "    <tr>\n",
       "      <th>0</th>\n",
       "      <td>36.849990</td>\n",
       "      <td>53161.203360</td>\n",
       "    </tr>\n",
       "    <tr>\n",
       "      <th>1</th>\n",
       "      <td>31.859499</td>\n",
       "      <td>44054.405295</td>\n",
       "    </tr>\n",
       "    <tr>\n",
       "      <th>2</th>\n",
       "      <td>25.985572</td>\n",
       "      <td>51371.106365</td>\n",
       "    </tr>\n",
       "    <tr>\n",
       "      <th>3</th>\n",
       "      <td>27.440512</td>\n",
       "      <td>57343.613031</td>\n",
       "    </tr>\n",
       "    <tr>\n",
       "      <th>4</th>\n",
       "      <td>34.361698</td>\n",
       "      <td>38230.668051</td>\n",
       "    </tr>\n",
       "  </tbody>\n",
       "</table>\n",
       "</div>"
      ]
     },
     "metadata": {},
     "output_type": "display_data"
    },
    {
     "name": "stdout",
     "output_type": "stream",
     "text": [
      "\n",
      "=== Metropolis-Hastings ===\n",
      "[Init] BayesianImputer initialized with method='metropolis', mechanism='MAR', imputations=2\n",
      "[Detect] Missing value count per column:\n",
      "age       10\n",
      "income    15\n",
      "dtype: int64\n",
      "[InitMissing] Missing values initialized using column means.\n",
      "[Impute] Running metropolis sampling...\n",
      "[MH] Starting Metropolis-Hastings sampling...\n",
      "[MH] Imputation 1 completed.\n",
      "[MH] Imputation 2 completed.\n",
      "[MH] Metropolis-Hastings sampling finished.\n",
      "[Impute] Imputation complete.\n"
     ]
    },
    {
     "data": {
      "text/plain": [
       "         age        income\n",
       "0  36.849990  53161.203360\n",
       "1  31.859499  50418.769438\n",
       "2  25.985572  51371.106365\n",
       "3  30.501863  57343.613031\n",
       "4  28.929682  38230.668051"
      ],
      "text/html": [
       "<div>\n",
       "<style scoped>\n",
       "    .dataframe tbody tr th:only-of-type {\n",
       "        vertical-align: middle;\n",
       "    }\n",
       "\n",
       "    .dataframe tbody tr th {\n",
       "        vertical-align: top;\n",
       "    }\n",
       "\n",
       "    .dataframe thead th {\n",
       "        text-align: right;\n",
       "    }\n",
       "</style>\n",
       "<table border=\"1\" class=\"dataframe\">\n",
       "  <thead>\n",
       "    <tr style=\"text-align: right;\">\n",
       "      <th></th>\n",
       "      <th>age</th>\n",
       "      <th>income</th>\n",
       "    </tr>\n",
       "  </thead>\n",
       "  <tbody>\n",
       "    <tr>\n",
       "      <th>0</th>\n",
       "      <td>36.849990</td>\n",
       "      <td>53161.203360</td>\n",
       "    </tr>\n",
       "    <tr>\n",
       "      <th>1</th>\n",
       "      <td>31.859499</td>\n",
       "      <td>50418.769438</td>\n",
       "    </tr>\n",
       "    <tr>\n",
       "      <th>2</th>\n",
       "      <td>25.985572</td>\n",
       "      <td>51371.106365</td>\n",
       "    </tr>\n",
       "    <tr>\n",
       "      <th>3</th>\n",
       "      <td>30.501863</td>\n",
       "      <td>57343.613031</td>\n",
       "    </tr>\n",
       "    <tr>\n",
       "      <th>4</th>\n",
       "      <td>28.929682</td>\n",
       "      <td>38230.668051</td>\n",
       "    </tr>\n",
       "  </tbody>\n",
       "</table>\n",
       "</div>"
      ]
     },
     "metadata": {},
     "output_type": "display_data"
    }
   ],
   "execution_count": 2
  }
 ],
 "metadata": {
  "kernelspec": {
   "display_name": "Python 3",
   "language": "python",
   "name": "python3"
  },
  "language_info": {
   "codemirror_mode": {
    "name": "ipython",
    "version": 2
   },
   "file_extension": ".py",
   "mimetype": "text/x-python",
   "name": "python",
   "nbconvert_exporter": "python",
   "pygments_lexer": "ipython2",
   "version": "2.7.6"
  }
 },
 "nbformat": 4,
 "nbformat_minor": 5
}
